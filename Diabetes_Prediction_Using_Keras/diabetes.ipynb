{
 "cells": [
  {
   "cell_type": "code",
   "execution_count": 3,
   "metadata": {},
   "outputs": [],
   "source": [
    "from keras.models import Sequential\n",
    "from keras.layers import Dense\n",
    "import numpy"
   ]
  },
  {
   "cell_type": "code",
   "execution_count": 5,
   "metadata": {},
   "outputs": [],
   "source": [
    "#Read csv file using numpy\n",
    "dataset = numpy.loadtxt(\"dataset-diabetes.csv\",delimiter=\",\")\n",
    "\n",
    "#split into X and Y\n",
    "X = dataset[:,0:8]\n",
    "Y = dataset[:,8]"
   ]
  },
  {
   "cell_type": "code",
   "execution_count": 6,
   "metadata": {},
   "outputs": [],
   "source": [
    "#create model, add layers with corresponding activation functions\n",
    "model = Sequential()\n",
    "model.add(Dense(12, input_dim = 8, activation = 'relu')) #input dimension is given in the first layer to feed the input\n",
    "model.add(Dense(15, activation='relu'))\n",
    "model.add(Dense(8, activation='relu'))\n",
    "model.add(Dense(10, activation='relu'))\n",
    "model.add(Dense(1, activation='sigmoid')) # final layer is given sigmoid"
   ]
  },
  {
   "cell_type": "code",
   "execution_count": 7,
   "metadata": {},
   "outputs": [
    {
     "name": "stdout",
     "output_type": "stream",
     "text": [
      "Epoch 1/1000\n",
      "768/768 [==============================] - 4s 6ms/step - loss: 5.1591 - acc: 0.4544\n",
      "Epoch 2/1000\n",
      "768/768 [==============================] - 0s 405us/step - loss: 0.7072 - acc: 0.5964\n",
      "........................................................................................"
      "........................................................................................"
      "........................................................................................"
      "Epoch 998/1000\n",
      "768/768 [==============================] - 0s 353us/step - loss: 0.3193 - acc: 0.8633\n",
      "Epoch 999/1000\n",
      "768/768 [==============================] - 0s 371us/step - loss: 0.3400 - acc: 0.8464\n",
      "Epoch 1000/1000\n",
      "768/768 [==============================] - 0s 374us/step - loss: 0.3027 - acc: 0.8659\n"
     ]
    },
    {
     "data": {
      "text/plain": [
       "<keras.callbacks.History at 0x7fabac9c7eb8>"
      ]
     },
     "execution_count": 7,
     "metadata": {},
     "output_type": "execute_result"
    }
   ],
   "source": [
    "model.compile(loss=\"binary_crossentropy\", optimizer=\"adam\", metrics=['accuracy'])\n",
    "model.fit(X, Y, epochs=1000,batch_size=10)"
   ]
  },
  {
   "cell_type": "code",
   "execution_count": 8,
   "metadata": {},
   "outputs": [
    {
     "name": "stdout",
     "output_type": "stream",
     "text": [
      "768/768 [==============================] - 0s 86us/step\n"
     ]
    }
   ],
   "source": [
    "scores = model.evaluate(X, Y)"
   ]
  },
  {
   "cell_type": "code",
   "execution_count": 11,
   "metadata": {},
   "outputs": [
    {
     "name": "stdout",
     "output_type": "stream",
     "text": [
      "acc 88.54166666666666\n"
     ]
    }
   ],
   "source": [
    "print(model.metrics_names[1], scores[1]*100)"
   ]
  },
  {
   "cell_type": "code",
   "execution_count": 14,
   "metadata": {},
   "outputs": [],
   "source": [
    "model.save('my_model.h5')"
   ]
  }
 ],
 "metadata": {
  "kernelspec": {
   "display_name": "Python 3",
   "language": "python",
   "name": "python3"
  },
  "language_info": {
   "codemirror_mode": {
    "name": "ipython",
    "version": 3
   },
   "file_extension": ".py",
   "mimetype": "text/x-python",
   "name": "python",
   "nbconvert_exporter": "python",
   "pygments_lexer": "ipython3",
   "version": "3.6.6"
  }
 },
 "nbformat": 4,
 "nbformat_minor": 2
}
